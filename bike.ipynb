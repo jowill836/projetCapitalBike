{
 "cells": [
  {
   "attachments": {},
   "cell_type": "markdown",
   "metadata": {},
   "source": [
    "https://capitalbikeshare.com/system-data"
   ]
  },
  {
   "attachments": {},
   "cell_type": "markdown",
   "metadata": {},
   "source": [
    "# IMPORTS"
   ]
  },
  {
   "cell_type": "code",
   "execution_count": 36,
   "metadata": {},
   "outputs": [],
   "source": [
    "import pandas as pd\n",
    "from sklearn import preprocessing\n",
    "import numpy as np\n",
    "import matplotlib.pyplot as plt"
   ]
  },
  {
   "attachments": {},
   "cell_type": "markdown",
   "metadata": {},
   "source": [
    "# lecture du jeu de donnees"
   ]
  },
  {
   "cell_type": "code",
   "execution_count": 37,
   "metadata": {},
   "outputs": [],
   "source": [
    "data = pd.read_csv('Capital_Bikeshare_dataDV.csv', sep=';')"
   ]
  },
  {
   "attachments": {},
   "cell_type": "markdown",
   "metadata": {},
   "source": [
    "# Affichage du jeu de donnees"
   ]
  },
  {
   "cell_type": "code",
   "execution_count": 38,
   "metadata": {},
   "outputs": [
    {
     "name": "stdout",
     "output_type": "stream",
     "text": [
      "<class 'pandas.core.frame.DataFrame'>\n",
      "RangeIndex: 804 entries, 0 to 803\n",
      "Data columns (total 15 columns):\n",
      " #   Column      Non-Null Count  Dtype  \n",
      "---  ------      --------------  -----  \n",
      " 0   dteday      804 non-null    object \n",
      " 1   season      804 non-null    int64  \n",
      " 2   yr          804 non-null    int64  \n",
      " 3   mnth        804 non-null    int64  \n",
      " 4   holiday     804 non-null    int64  \n",
      " 5   weekday     804 non-null    int64  \n",
      " 6   workingday  804 non-null    int64  \n",
      " 7   weathersit  804 non-null    int64  \n",
      " 8   temp        788 non-null    float64\n",
      " 9   atemp       804 non-null    float64\n",
      " 10  hum         802 non-null    float64\n",
      " 11  windspeed   796 non-null    float64\n",
      " 12  casual      804 non-null    int64  \n",
      " 13  registered  804 non-null    int64  \n",
      " 14  cnt         804 non-null    int64  \n",
      "dtypes: float64(4), int64(10), object(1)\n",
      "memory usage: 94.3+ KB\n"
     ]
    },
    {
     "data": {
      "text/html": [
       "<div>\n",
       "<style scoped>\n",
       "    .dataframe tbody tr th:only-of-type {\n",
       "        vertical-align: middle;\n",
       "    }\n",
       "\n",
       "    .dataframe tbody tr th {\n",
       "        vertical-align: top;\n",
       "    }\n",
       "\n",
       "    .dataframe thead th {\n",
       "        text-align: right;\n",
       "    }\n",
       "</style>\n",
       "<table border=\"1\" class=\"dataframe\">\n",
       "  <thead>\n",
       "    <tr style=\"text-align: right;\">\n",
       "      <th></th>\n",
       "      <th>season</th>\n",
       "      <th>yr</th>\n",
       "      <th>mnth</th>\n",
       "      <th>holiday</th>\n",
       "      <th>weekday</th>\n",
       "      <th>workingday</th>\n",
       "      <th>weathersit</th>\n",
       "      <th>temp</th>\n",
       "      <th>atemp</th>\n",
       "      <th>hum</th>\n",
       "      <th>windspeed</th>\n",
       "      <th>casual</th>\n",
       "      <th>registered</th>\n",
       "      <th>cnt</th>\n",
       "    </tr>\n",
       "  </thead>\n",
       "  <tbody>\n",
       "    <tr>\n",
       "      <th>count</th>\n",
       "      <td>804.000000</td>\n",
       "      <td>804.000000</td>\n",
       "      <td>804.000000</td>\n",
       "      <td>804.000000</td>\n",
       "      <td>804.000000</td>\n",
       "      <td>804.000000</td>\n",
       "      <td>804.000000</td>\n",
       "      <td>788.000000</td>\n",
       "      <td>804.000000</td>\n",
       "      <td>802.000000</td>\n",
       "      <td>796.000000</td>\n",
       "      <td>804.000000</td>\n",
       "      <td>804.000000</td>\n",
       "      <td>804.000000</td>\n",
       "    </tr>\n",
       "    <tr>\n",
       "      <th>mean</th>\n",
       "      <td>2.488806</td>\n",
       "      <td>0.500000</td>\n",
       "      <td>6.522388</td>\n",
       "      <td>0.027363</td>\n",
       "      <td>3.021144</td>\n",
       "      <td>0.682836</td>\n",
       "      <td>1.389303</td>\n",
       "      <td>0.491770</td>\n",
       "      <td>0.471459</td>\n",
       "      <td>0.622822</td>\n",
       "      <td>0.191118</td>\n",
       "      <td>842.633085</td>\n",
       "      <td>3644.486318</td>\n",
       "      <td>4487.119403</td>\n",
       "    </tr>\n",
       "    <tr>\n",
       "      <th>std</th>\n",
       "      <td>1.120898</td>\n",
       "      <td>0.500311</td>\n",
       "      <td>3.478917</td>\n",
       "      <td>0.163241</td>\n",
       "      <td>2.009517</td>\n",
       "      <td>0.465662</td>\n",
       "      <td>0.548004</td>\n",
       "      <td>0.184423</td>\n",
       "      <td>0.163911</td>\n",
       "      <td>0.144308</td>\n",
       "      <td>0.077183</td>\n",
       "      <td>683.810619</td>\n",
       "      <td>1577.836614</td>\n",
       "      <td>1955.199816</td>\n",
       "    </tr>\n",
       "    <tr>\n",
       "      <th>min</th>\n",
       "      <td>1.000000</td>\n",
       "      <td>0.000000</td>\n",
       "      <td>1.000000</td>\n",
       "      <td>0.000000</td>\n",
       "      <td>0.000000</td>\n",
       "      <td>0.000000</td>\n",
       "      <td>1.000000</td>\n",
       "      <td>0.059130</td>\n",
       "      <td>0.079070</td>\n",
       "      <td>0.000000</td>\n",
       "      <td>0.022392</td>\n",
       "      <td>2.000000</td>\n",
       "      <td>20.000000</td>\n",
       "      <td>22.000000</td>\n",
       "    </tr>\n",
       "    <tr>\n",
       "      <th>25%</th>\n",
       "      <td>1.000000</td>\n",
       "      <td>0.000000</td>\n",
       "      <td>3.000000</td>\n",
       "      <td>0.000000</td>\n",
       "      <td>1.000000</td>\n",
       "      <td>0.000000</td>\n",
       "      <td>1.000000</td>\n",
       "      <td>0.329792</td>\n",
       "      <td>0.330006</td>\n",
       "      <td>0.518383</td>\n",
       "      <td>0.135571</td>\n",
       "      <td>314.750000</td>\n",
       "      <td>2467.000000</td>\n",
       "      <td>3116.500000</td>\n",
       "    </tr>\n",
       "    <tr>\n",
       "      <th>50%</th>\n",
       "      <td>2.000000</td>\n",
       "      <td>0.500000</td>\n",
       "      <td>7.000000</td>\n",
       "      <td>0.000000</td>\n",
       "      <td>3.000000</td>\n",
       "      <td>1.000000</td>\n",
       "      <td>1.000000</td>\n",
       "      <td>0.485417</td>\n",
       "      <td>0.474744</td>\n",
       "      <td>0.621250</td>\n",
       "      <td>0.180975</td>\n",
       "      <td>697.000000</td>\n",
       "      <td>3638.500000</td>\n",
       "      <td>4508.000000</td>\n",
       "    </tr>\n",
       "    <tr>\n",
       "      <th>75%</th>\n",
       "      <td>3.000000</td>\n",
       "      <td>1.000000</td>\n",
       "      <td>10.000000</td>\n",
       "      <td>0.000000</td>\n",
       "      <td>5.000000</td>\n",
       "      <td>1.000000</td>\n",
       "      <td>2.000000</td>\n",
       "      <td>0.653541</td>\n",
       "      <td>0.607962</td>\n",
       "      <td>0.726042</td>\n",
       "      <td>0.233376</td>\n",
       "      <td>1094.250000</td>\n",
       "      <td>4841.000000</td>\n",
       "      <td>5978.500000</td>\n",
       "    </tr>\n",
       "    <tr>\n",
       "      <th>max</th>\n",
       "      <td>4.000000</td>\n",
       "      <td>1.000000</td>\n",
       "      <td>12.000000</td>\n",
       "      <td>1.000000</td>\n",
       "      <td>6.000000</td>\n",
       "      <td>1.000000</td>\n",
       "      <td>3.000000</td>\n",
       "      <td>0.861667</td>\n",
       "      <td>0.840896</td>\n",
       "      <td>0.972500</td>\n",
       "      <td>0.507463</td>\n",
       "      <td>3410.000000</td>\n",
       "      <td>6946.000000</td>\n",
       "      <td>8714.000000</td>\n",
       "    </tr>\n",
       "  </tbody>\n",
       "</table>\n",
       "</div>"
      ],
      "text/plain": [
       "           season          yr        mnth     holiday     weekday  workingday  \\\n",
       "count  804.000000  804.000000  804.000000  804.000000  804.000000  804.000000   \n",
       "mean     2.488806    0.500000    6.522388    0.027363    3.021144    0.682836   \n",
       "std      1.120898    0.500311    3.478917    0.163241    2.009517    0.465662   \n",
       "min      1.000000    0.000000    1.000000    0.000000    0.000000    0.000000   \n",
       "25%      1.000000    0.000000    3.000000    0.000000    1.000000    0.000000   \n",
       "50%      2.000000    0.500000    7.000000    0.000000    3.000000    1.000000   \n",
       "75%      3.000000    1.000000   10.000000    0.000000    5.000000    1.000000   \n",
       "max      4.000000    1.000000   12.000000    1.000000    6.000000    1.000000   \n",
       "\n",
       "       weathersit        temp       atemp         hum   windspeed  \\\n",
       "count  804.000000  788.000000  804.000000  802.000000  796.000000   \n",
       "mean     1.389303    0.491770    0.471459    0.622822    0.191118   \n",
       "std      0.548004    0.184423    0.163911    0.144308    0.077183   \n",
       "min      1.000000    0.059130    0.079070    0.000000    0.022392   \n",
       "25%      1.000000    0.329792    0.330006    0.518383    0.135571   \n",
       "50%      1.000000    0.485417    0.474744    0.621250    0.180975   \n",
       "75%      2.000000    0.653541    0.607962    0.726042    0.233376   \n",
       "max      3.000000    0.861667    0.840896    0.972500    0.507463   \n",
       "\n",
       "            casual   registered          cnt  \n",
       "count   804.000000   804.000000   804.000000  \n",
       "mean    842.633085  3644.486318  4487.119403  \n",
       "std     683.810619  1577.836614  1955.199816  \n",
       "min       2.000000    20.000000    22.000000  \n",
       "25%     314.750000  2467.000000  3116.500000  \n",
       "50%     697.000000  3638.500000  4508.000000  \n",
       "75%    1094.250000  4841.000000  5978.500000  \n",
       "max    3410.000000  6946.000000  8714.000000  "
      ]
     },
     "execution_count": 38,
     "metadata": {},
     "output_type": "execute_result"
    }
   ],
   "source": [
    "data.info()\n",
    "data.head()\n",
    "data.describe()"
   ]
  },
  {
   "attachments": {},
   "cell_type": "markdown",
   "metadata": {},
   "source": [
    "# Verification de présence de valeurs manquantes"
   ]
  },
  {
   "cell_type": "code",
   "execution_count": 39,
   "metadata": {},
   "outputs": [
    {
     "data": {
      "text/plain": [
       "dteday         0\n",
       "season         0\n",
       "yr             0\n",
       "mnth           0\n",
       "holiday        0\n",
       "weekday        0\n",
       "workingday     0\n",
       "weathersit     0\n",
       "temp          16\n",
       "atemp          0\n",
       "hum            2\n",
       "windspeed      8\n",
       "casual         0\n",
       "registered     0\n",
       "cnt            0\n",
       "dtype: int64"
      ]
     },
     "execution_count": 39,
     "metadata": {},
     "output_type": "execute_result"
    }
   ],
   "source": [
    "data.isnull().sum()"
   ]
  },
  {
   "cell_type": "markdown",
   "metadata": {},
   "source": []
  },
  {
   "cell_type": "code",
   "execution_count": 40,
   "metadata": {},
   "outputs": [
    {
     "data": {
      "text/plain": [
       "dteday        0.000000\n",
       "season        0.000000\n",
       "yr            0.000000\n",
       "mnth          0.000000\n",
       "holiday       0.000000\n",
       "weekday       0.000000\n",
       "workingday    0.000000\n",
       "weathersit    0.000000\n",
       "temp          1.990050\n",
       "atemp         0.000000\n",
       "hum           0.248756\n",
       "windspeed     0.995025\n",
       "casual        0.000000\n",
       "registered    0.000000\n",
       "cnt           0.000000\n",
       "dtype: float64"
      ]
     },
     "execution_count": 40,
     "metadata": {},
     "output_type": "execute_result"
    }
   ],
   "source": [
    "missing_percentage = data.isnull().sum() / data.shape[0] * 100\n",
    "missing_percentage"
   ]
  },
  {
   "attachments": {},
   "cell_type": "markdown",
   "metadata": {},
   "source": [
    "On contate qu'on a des valeurs manquantes"
   ]
  },
  {
   "attachments": {},
   "cell_type": "markdown",
   "metadata": {},
   "source": [
    "## Verification de presence de doublons"
   ]
  },
  {
   "cell_type": "code",
   "execution_count": 41,
   "metadata": {},
   "outputs": [
    {
     "name": "stdout",
     "output_type": "stream",
     "text": [
      "Des doublons existent dans le jeu de données.\n"
     ]
    }
   ],
   "source": [
    "duplicates = data.duplicated()\n",
    "\n",
    "# Vérifier si des doublons existent\n",
    "if duplicates.any():\n",
    "    print(\"Des doublons existent dans le jeu de données.\")\n",
    "else:\n",
    "    print(\"Aucun doublon trouvé dans le jeu de données.\")"
   ]
  },
  {
   "cell_type": "code",
   "execution_count": 42,
   "metadata": {},
   "outputs": [
    {
     "data": {
      "text/plain": [
       "8.83084577114428"
      ]
     },
     "execution_count": 42,
     "metadata": {},
     "output_type": "execute_result"
    }
   ],
   "source": [
    "# Calculer le pourcentage de doublons\n",
    "duplicate_percentage = (data.duplicated().sum() / len(data)) * 100\n",
    "duplicate_percentage"
   ]
  },
  {
   "attachments": {},
   "cell_type": "markdown",
   "metadata": {},
   "source": [
    "## Verification des erreurs de formats"
   ]
  },
  {
   "cell_type": "code",
   "execution_count": 43,
   "metadata": {},
   "outputs": [
    {
     "name": "stdout",
     "output_type": "stream",
     "text": [
      "Aucune erreur de format détectée pour les dates.\n",
      "Aucune erreur de format détectée pour les nombres.\n"
     ]
    }
   ],
   "source": [
    "# Vérifier les erreurs de format pour les dates\n",
    "try:\n",
    "    data['dteday'] = pd.to_datetime(data['dteday'], format='%d/%m/%Y')\n",
    "    print(\"Aucune erreur de format détectée pour les dates.\")\n",
    "except ValueError:\n",
    "    print(\"Des erreurs de format sont présentes dans les dates.\")\n",
    "\n",
    "# Vérifier les erreurs de format pour les nombres\n",
    "try:\n",
    "    data['windspeed'] = pd.to_numeric(data['windspeed'])\n",
    "    data['temp'] = pd.to_numeric(data['temp'])\n",
    "    data['atemp'] = pd.to_numeric(data['atemp'])\n",
    "    data['hum'] = pd.to_numeric(data['hum'])\n",
    "    print(\"Aucune erreur de format détectée pour les nombres.\")\n",
    "except ValueError:\n",
    "    print(\"Des erreurs de format sont présentes dans les nombres.\")"
   ]
  },
  {
   "attachments": {},
   "cell_type": "markdown",
   "metadata": {},
   "source": []
  },
  {
   "cell_type": "code",
   "execution_count": 44,
   "metadata": {},
   "outputs": [
    {
     "data": {
      "text/plain": [
       "<Axes: xlabel='dteday', ylabel='temp'>"
      ]
     },
     "execution_count": 44,
     "metadata": {},
     "output_type": "execute_result"
    },
    {
     "data": {
      "image/png": "[encoded data removed]",
      "text/plain": [
       "<Figure size 640x480 with 1 Axes>"
      ]
     },
     "metadata": {},
     "output_type": "display_data"
    }
   ],
   "source": [
    "data.plot(x='dteday', y='temp', kind='scatter')"
   ]
  },
  {
   "attachments": {},
   "cell_type": "markdown",
   "metadata": {},
   "source": [
    "data."
   ]
  }
 ],
 "metadata": {
  "kernelspec": {
   "display_name": "Python 3",
   "language": "python",
   "name": "python3"
  },
  "language_info": {
   "codemirror_mode": {
    "name": "ipython",
    "version": 3
   },
   "file_extension": ".py",
   "mimetype": "text/x-python",
   "name": "python",
   "nbconvert_exporter": "python",
   "pygments_lexer": "ipython3",
   "version": "3.10.8"
  },
  "orig_nbformat": 4
 },
 "nbformat": 4,
 "nbformat_minor": 2
}
